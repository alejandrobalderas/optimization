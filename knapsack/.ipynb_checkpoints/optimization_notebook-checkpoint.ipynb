{
 "cells": [
  {
   "cell_type": "code",
   "execution_count": 15,
   "metadata": {},
   "outputs": [
    {
     "name": "stdout",
     "output_type": "stream",
     "text": [
      "4 11\n",
      "8 4\n",
      "10 5\n",
      "15 8\n",
      "4 3\n",
      "\n"
     ]
    }
   ],
   "source": [
    "file_location = \"./data/ks_4_0\"\n",
    "with open(file_location,\"r\") as input_data_file:\n",
    "    input_data = input_data_file.read()\n",
    "    \n",
    "print(input_data)"
   ]
  },
  {
   "cell_type": "code",
   "execution_count": 16,
   "metadata": {},
   "outputs": [],
   "source": [
    "from collections import namedtuple\n",
    "Item = namedtuple(\"Item\", ['index', 'value', 'weight'])"
   ]
  },
  {
   "cell_type": "code",
   "execution_count": 17,
   "metadata": {},
   "outputs": [],
   "source": [
    "lines = input_data.split('\\n')\n",
    "\n",
    "firstLine = lines[0].split()\n",
    "item_count = int(firstLine[0])\n",
    "capacity = int(firstLine[1])\n",
    "\n",
    "items = []\n",
    "\n",
    "for i in range(1, item_count + 1):\n",
    "    line = lines[i]\n",
    "    parts = line.split()\n",
    "    items.append(Item(i - 1, int(parts[0]), int(parts[1])))"
   ]
  },
  {
   "cell_type": "code",
   "execution_count": 21,
   "metadata": {},
   "outputs": [],
   "source": [
    "K = [[0 for x in range(capacity+1)] for x in range(item_count+1)]"
   ]
  },
  {
   "cell_type": "code",
   "execution_count": 24,
   "metadata": {},
   "outputs": [],
   "source": [
    "import numpy as np"
   ]
  },
  {
   "cell_type": "code",
   "execution_count": 23,
   "metadata": {},
   "outputs": [
    {
     "data": {
      "text/plain": [
       "[0, 0, 0, 0, 0, 0, 0, 0, 0, 0, 0, 0]"
      ]
     },
     "execution_count": 23,
     "metadata": {},
     "output_type": "execute_result"
    }
   ],
   "source": [
    "K[0]"
   ]
  },
  {
   "cell_type": "code",
   "execution_count": 56,
   "metadata": {},
   "outputs": [],
   "source": [
    "K = np.zeros([capacity + 1, item_count + 1])"
   ]
  },
  {
   "cell_type": "code",
   "execution_count": 57,
   "metadata": {},
   "outputs": [
    {
     "data": {
      "text/plain": [
       "array([[0., 0., 0., 0., 0.],\n",
       "       [0., 0., 0., 0., 0.],\n",
       "       [0., 0., 0., 0., 0.],\n",
       "       [0., 0., 0., 0., 0.],\n",
       "       [0., 0., 0., 0., 0.],\n",
       "       [0., 0., 0., 0., 0.],\n",
       "       [0., 0., 0., 0., 0.],\n",
       "       [0., 0., 0., 0., 0.],\n",
       "       [0., 0., 0., 0., 0.],\n",
       "       [0., 0., 0., 0., 0.],\n",
       "       [0., 0., 0., 0., 0.],\n",
       "       [0., 0., 0., 0., 0.]])"
      ]
     },
     "execution_count": 57,
     "metadata": {},
     "output_type": "execute_result"
    }
   ],
   "source": [
    "K"
   ]
  },
  {
   "cell_type": "code",
   "execution_count": 33,
   "metadata": {},
   "outputs": [
    {
     "data": {
      "text/plain": [
       "array([0., 0., 0., 0., 0., 0., 0., 0., 0., 0., 0., 0.])"
      ]
     },
     "execution_count": 33,
     "metadata": {},
     "output_type": "execute_result"
    }
   ],
   "source": [
    "K[:,0]"
   ]
  },
  {
   "cell_type": "code",
   "execution_count": 36,
   "metadata": {},
   "outputs": [],
   "source": [
    "item = items[0]"
   ]
  },
  {
   "cell_type": "code",
   "execution_count": 37,
   "metadata": {},
   "outputs": [
    {
     "data": {
      "text/plain": [
       "4"
      ]
     },
     "execution_count": 37,
     "metadata": {},
     "output_type": "execute_result"
    }
   ],
   "source": [
    "item.weight"
   ]
  },
  {
   "cell_type": "code",
   "execution_count": 39,
   "metadata": {},
   "outputs": [],
   "source": []
  },
  {
   "cell_type": "code",
   "execution_count": null,
   "metadata": {},
   "outputs": [],
   "source": [
    "import numpy as np\n",
    "weights = [0]\n",
    "values = [0]\n",
    "for i in range(len(items)):\n",
    "    weights.append(items[i].weight)\n",
    "    values.append(items[i].value)"
   ]
  },
  {
   "cell_type": "code",
   "execution_count": 201,
   "metadata": {},
   "outputs": [
    {
     "data": {
      "text/plain": [
       "array([[ 0.,  0.,  0.,  0.,  0.],\n",
       "       [ 0.,  0.,  0.,  0.,  0.],\n",
       "       [ 0., 16., 16., 16., 16.],\n",
       "       [ 0., 16., 19., 19., 19.],\n",
       "       [ 0., 16., 19., 23., 23.],\n",
       "       [ 0., 16., 35., 35., 35.],\n",
       "       [ 0., 16., 35., 39., 39.],\n",
       "       [ 0., 16., 35., 42., 44.]])"
      ]
     },
     "execution_count": 201,
     "metadata": {},
     "output_type": "execute_result"
    }
   ],
   "source": [
    "weights = [0,2,3,4,5]\n",
    "values = [0,16,19,23,28]\n",
    "capacity = 7\n",
    "item_count = len(values)-1\n",
    "    \n",
    "K = np.zeros([capacity + 1, item_count + 1])\n",
    "for i in range(1,item_count+1):\n",
    "    for w in range(capacity+1):\n",
    "        if i==0 or w==0:\n",
    "            K[w,i]=0\n",
    "        elif w<weights[i]:\n",
    "            K[w,i]= K[w,i-1]\n",
    "        else:\n",
    "            K[w,i]=np.maximum(K[w-weights[i],i-1]+values[i], K[w,i-1])\n",
    "K"
   ]
  },
  {
   "cell_type": "code",
   "execution_count": null,
   "metadata": {},
   "outputs": [],
   "source": []
  },
  {
   "cell_type": "code",
   "execution_count": 203,
   "metadata": {},
   "outputs": [
    {
     "data": {
      "text/plain": [
       "[1, 0, 0, 1]"
      ]
     },
     "execution_count": 203,
     "metadata": {},
     "output_type": "execute_result"
    }
   ],
   "source": [
    "ctr = 0\n",
    "x = [0]*item_count\n",
    "remove_weight=0\n",
    "max_val = np.max(K)\n",
    "for i in range(item_count,0,-1):\n",
    "    if K[-1 - remove_weight,i-1] != K[-1 - remove_weight,i]:\n",
    "        max_val = K[-1-remove_weight,i]\n",
    "        remove_weight += weights[i]\n",
    "        x[i-1] = 1\n",
    "\n",
    "x"
   ]
  },
  {
   "cell_type": "code",
   "execution_count": 210,
   "metadata": {},
   "outputs": [
    {
     "data": {
      "text/plain": [
       "44"
      ]
     },
     "execution_count": 210,
     "metadata": {},
     "output_type": "execute_result"
    }
   ],
   "source": [
    "total_weight=0\n",
    "for i in range(len(x)):\n",
    "    total_weight += x[i]*values[i+1]\n",
    "total_weight"
   ]
  },
  {
   "cell_type": "code",
   "execution_count": 205,
   "metadata": {},
   "outputs": [
    {
     "data": {
      "text/plain": [
       "[1, 0, 0, 1]"
      ]
     },
     "execution_count": 205,
     "metadata": {},
     "output_type": "execute_result"
    }
   ],
   "source": [
    "x"
   ]
  },
  {
   "cell_type": "code",
   "execution_count": 103,
   "metadata": {},
   "outputs": [
    {
     "data": {
      "text/plain": [
       "[0, 4, 5, 2]"
      ]
     },
     "execution_count": 103,
     "metadata": {},
     "output_type": "execute_result"
    }
   ],
   "source": [
    "weights"
   ]
  },
  {
   "cell_type": "code",
   "execution_count": null,
   "metadata": {},
   "outputs": [],
   "source": []
  }
 ],
 "metadata": {
  "kernelspec": {
   "display_name": "Python 3",
   "language": "python",
   "name": "python3"
  },
  "language_info": {
   "codemirror_mode": {
    "name": "ipython",
    "version": 3
   },
   "file_extension": ".py",
   "mimetype": "text/x-python",
   "name": "python",
   "nbconvert_exporter": "python",
   "pygments_lexer": "ipython3",
   "version": "3.6.6"
  }
 },
 "nbformat": 4,
 "nbformat_minor": 2
}
