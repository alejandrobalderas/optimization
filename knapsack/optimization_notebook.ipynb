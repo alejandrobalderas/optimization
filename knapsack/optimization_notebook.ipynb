{
 "cells": [
  {
   "cell_type": "code",
   "execution_count": 1,
   "metadata": {},
   "outputs": [
    {
     "name": "stdout",
     "output_type": "stream",
     "text": [
      "30 100000\n",
      "90000 90001\n",
      "89750 89751\n",
      "10001 10002\n",
      "89500 89501\n",
      "10252 10254\n",
      "89250 89251\n",
      "10503 10506\n",
      "89000 89001\n",
      "10754 10758\n",
      "88750 88751\n",
      "11005 11010\n",
      "88500 88501\n",
      "11256 11262\n",
      "88250 88251\n",
      "11507 11514\n",
      "88000 88001\n",
      "11758 11766\n",
      "87750 87751\n",
      "12009 12018\n",
      "87500 87501\n",
      "12260 12270\n",
      "87250 87251\n",
      "12511 12522\n",
      "87000 87001\n",
      "12762 12774\n",
      "86750 86751\n",
      "13013 13026\n",
      "86500 86501\n",
      "13264 13278\n",
      "86250 86251\n",
      "\n"
     ]
    }
   ],
   "source": [
    "file_location = \"./data/ks_30_0\"\n",
    "with open(file_location,\"r\") as input_data_file:\n",
    "    input_data = input_data_file.read()\n",
    "    \n",
    "print(input_data)"
   ]
  },
  {
   "cell_type": "code",
   "execution_count": 2,
   "metadata": {},
   "outputs": [],
   "source": [
    "from collections import namedtuple\n",
    "Item = namedtuple(\"Item\", ['index', 'value', 'weight'])"
   ]
  },
  {
   "cell_type": "code",
   "execution_count": 3,
   "metadata": {},
   "outputs": [],
   "source": [
    "lines = input_data.split('\\n')\n",
    "\n",
    "firstLine = lines[0].split()\n",
    "item_count = int(firstLine[0])\n",
    "capacity = int(firstLine[1])\n",
    "\n",
    "items = []\n",
    "\n",
    "for i in range(1, item_count + 1):\n",
    "    line = lines[i]\n",
    "    parts = line.split()\n",
    "    items.append(Item(i - 1, int(parts[0]), int(parts[1])))"
   ]
  },
  {
   "cell_type": "markdown",
   "metadata": {},
   "source": [
    "## Dynamic Programming"
   ]
  },
  {
   "cell_type": "code",
   "execution_count": 4,
   "metadata": {},
   "outputs": [],
   "source": [
    "import numpy as np\n",
    "weights = [0]\n",
    "values = [0]\n",
    "for i in range(len(items)):\n",
    "    weights.append(items[i].weight)\n",
    "    values.append(items[i].value)"
   ]
  },
  {
   "cell_type": "code",
   "execution_count": 5,
   "metadata": {},
   "outputs": [],
   "source": [
    "K = np.zeros([capacity + 1, item_count + 1])\n",
    "for i in range(1,item_count+1):\n",
    "    for w in range(capacity+1):\n",
    "        if i==0 or w==0:\n",
    "            K[w,i]=0\n",
    "        elif w<weights[i]:\n",
    "            K[w,i]= K[w,i-1]\n",
    "        else:\n",
    "            K[w,i]=np.maximum(K[w-weights[i],i-1]+values[i], K[w,i-1])"
   ]
  },
  {
   "cell_type": "code",
   "execution_count": 6,
   "metadata": {},
   "outputs": [
    {
     "data": {
      "text/plain": [
       "[0,\n",
       " 0,\n",
       " 1,\n",
       " 0,\n",
       " 1,\n",
       " 0,\n",
       " 1,\n",
       " 0,\n",
       " 1,\n",
       " 0,\n",
       " 1,\n",
       " 0,\n",
       " 1,\n",
       " 0,\n",
       " 0,\n",
       " 0,\n",
       " 1,\n",
       " 0,\n",
       " 1,\n",
       " 0,\n",
       " 1,\n",
       " 0,\n",
       " 0,\n",
       " 0,\n",
       " 0,\n",
       " 0,\n",
       " 0,\n",
       " 0,\n",
       " 0,\n",
       " 0]"
      ]
     },
     "execution_count": 6,
     "metadata": {},
     "output_type": "execute_result"
    }
   ],
   "source": [
    "ctr = 0\n",
    "x = [0]*item_count\n",
    "remove_weight=0\n",
    "max_val = np.max(K)\n",
    "for i in range(item_count,0,-1):\n",
    "    if K[-1 - remove_weight,i-1] != K[-1 - remove_weight,i]:\n",
    "        max_val = K[-1-remove_weight,i]\n",
    "        remove_weight += weights[i]\n",
    "        x[i-1] = 1\n",
    "\n",
    "x"
   ]
  },
  {
   "cell_type": "code",
   "execution_count": 7,
   "metadata": {},
   "outputs": [
    {
     "data": {
      "text/plain": [
       "99798"
      ]
     },
     "execution_count": 7,
     "metadata": {},
     "output_type": "execute_result"
    }
   ],
   "source": [
    "total_weight=0\n",
    "for i in range(len(x)):\n",
    "    total_weight += x[i]*values[i+1]\n",
    "total_weight"
   ]
  },
  {
   "cell_type": "code",
   "execution_count": null,
   "metadata": {},
   "outputs": [],
   "source": []
  },
  {
   "cell_type": "markdown",
   "metadata": {},
   "source": [
    "## Branch and Bound"
   ]
  },
  {
   "cell_type": "code",
   "execution_count": 1,
   "metadata": {},
   "outputs": [],
   "source": [
    "import numpy as np\n",
    "import queue"
   ]
  },
  {
   "cell_type": "code",
   "execution_count": 2,
   "metadata": {},
   "outputs": [],
   "source": [
    "file_location = \"./data/ks_4_0\"\n",
    "with open(file_location,\"r\") as input_data_file:\n",
    "    input_data = input_data_file.read()\n",
    "    \n",
    "from collections import namedtuple\n",
    "Item = namedtuple(\"Item\", ['index', 'value', 'weight'])\n",
    "\n",
    "lines = input_data.split('\\n')\n",
    "\n",
    "firstLine = lines[0].split()\n",
    "item_count = int(firstLine[0])\n",
    "capacity = int(firstLine[1])\n",
    "\n",
    "items = []\n",
    "\n",
    "for i in range(1, item_count + 1):\n",
    "    line = lines[i]\n",
    "    parts = line.split()\n",
    "    items.append(Item(i - 1, int(parts[0]), int(parts[1])))"
   ]
  },
  {
   "cell_type": "code",
   "execution_count": 3,
   "metadata": {},
   "outputs": [],
   "source": [
    "values = []\n",
    "weights = []\n",
    "for item in items:\n",
    "    values.append(item.value)\n",
    "    weights.append(item.weight)\n",
    "density = [v/w for v,w in zip(values,weights)]"
   ]
  },
  {
   "cell_type": "code",
   "execution_count": 39,
   "metadata": {},
   "outputs": [],
   "source": [
    "values = [45,48,35]\n",
    "weights = [5,8,3]\n",
    "capacity = 10\n",
    "densities = [v/w for v,w in zip(values,weights)]\n",
    "item_count = len(values)"
   ]
  },
  {
   "cell_type": "code",
   "execution_count": 17,
   "metadata": {},
   "outputs": [],
   "source": [
    "idxs = list(range(item_count))\n",
    "idxs.sort(key=lambda i: values[i]/weights[i], reverse=True)"
   ]
  },
  {
   "cell_type": "code",
   "execution_count": 18,
   "metadata": {},
   "outputs": [
    {
     "data": {
      "text/plain": [
       "[0, 1, 2, 3]"
      ]
     },
     "execution_count": 18,
     "metadata": {},
     "output_type": "execute_result"
    }
   ],
   "source": [
    "idxs"
   ]
  },
  {
   "cell_type": "code",
   "execution_count": 4,
   "metadata": {},
   "outputs": [],
   "source": [
    "class Node:\n",
    "    def __init__(self, value, weight, estimate, level, contains):\n",
    "        self.value = value\n",
    "        self.weight = weight\n",
    "        self.estimate = estimate\n",
    "        self.level = level\n",
    "        self.contains = contains\n",
    "        "
   ]
  },
  {
   "cell_type": "code",
   "execution_count": null,
   "metadata": {},
   "outputs": [],
   "source": []
  },
  {
   "cell_type": "markdown",
   "metadata": {},
   "source": [
    "Depth-First Branch"
   ]
  },
  {
   "cell_type": "code",
   "execution_count": 5,
   "metadata": {},
   "outputs": [],
   "source": [
    "q = queue.Queue()"
   ]
  },
  {
   "cell_type": "code",
   "execution_count": 44,
   "metadata": {},
   "outputs": [
    {
     "name": "stdout",
     "output_type": "stream",
     "text": [
      "Value: 80 \tX: [1, 0, 1]\n"
     ]
    }
   ],
   "source": [
    "value = 0\n",
    "best = []\n",
    "ctr = 0\n",
    "\n",
    "root = Node(value=0, weight=0, estimate=sum(values), level=0, contains=[])\n",
    "q = queue.Queue()\n",
    "q.put(root)\n",
    "while not q.empty():\n",
    "    n = q.get()\n",
    "    \n",
    "    if n.level < item_count:\n",
    "        left = Node(value=n.value+values[n.level], weight=n.weight+weights[n.level], estimate=n.estimate, level=n.level+1, contains=n.contains[:])\n",
    "        left.contains.append(1)\n",
    "    \n",
    "        if left.weight<=capacity:\n",
    "            if left.value > value:\n",
    "                value = left.value\n",
    "                best = left.contains\n",
    "            if left.estimate > value:\n",
    "                q.put(left)\n",
    "            \n",
    "    \n",
    "        right = Node(value=n.value, weight=n.weight, estimate=n.estimate-values[n.level], level=n.level+1, contains=n.contains[:])\n",
    "        right.contains.append(0)\n",
    "\n",
    "        if right.weight<=capacity:\n",
    "            if right.value > value:\n",
    "                value = right.value\n",
    "                best = right.contains\n",
    "            if right.estimate > value:\n",
    "                q.put(right)\n",
    "            \n",
    "print(\"Value:\",value,\"\\tX:\", best)"
   ]
  },
  {
   "cell_type": "markdown",
   "metadata": {},
   "source": [
    "Better Relaxation"
   ]
  },
  {
   "cell_type": "code",
   "execution_count": 49,
   "metadata": {},
   "outputs": [
    {
     "data": {
      "text/plain": [
       "[2, 0, 1]"
      ]
     },
     "execution_count": 49,
     "metadata": {},
     "output_type": "execute_result"
    }
   ],
   "source": [
    "sorted_args = list(reversed(np.argsort(densities)))\n",
    "sorted_args"
   ]
  },
  {
   "cell_type": "code",
   "execution_count": 59,
   "metadata": {},
   "outputs": [
    {
     "data": {
      "text/plain": [
       "[1, 0, 1]"
      ]
     },
     "execution_count": 59,
     "metadata": {},
     "output_type": "execute_result"
    }
   ],
   "source": [
    "x_take = [0]*item_count\n",
    "best = [1,1,0]\n",
    "\n",
    "for item, take in zip(sorted_args,range(len(best))):\n",
    "    x_take[item] = best[take]"
   ]
  },
  {
   "cell_type": "code",
   "execution_count": 53,
   "metadata": {},
   "outputs": [],
   "source": [
    "optimistic_estimation = 0\n",
    "w = 0\n",
    "ctr = 0\n",
    "while w < capacity:\n",
    "    optimistic_estimation += values[sorted_args[ctr]]\n",
    "    w += weights[sorted_args[ctr]]\n",
    "    ctr+=1"
   ]
  },
  {
   "cell_type": "code",
   "execution_count": 62,
   "metadata": {},
   "outputs": [],
   "source": [
    "items.sort(key=lambda x: x.value/x.weight, reverse=True)\n",
    "values = []\n",
    "weights = []\n",
    "for item in items:\n",
    "    values.append(item.value)\n",
    "    weights.append(item.weight)"
   ]
  },
  {
   "cell_type": "code",
   "execution_count": null,
   "metadata": {},
   "outputs": [],
   "source": [
    "value = 0\n",
    "best = []\n",
    "ctr = 0\n",
    "\n",
    "root = Node(value=0, weight=0, estimate=sum(values), level=0, contains=[])\n",
    "q = queue.Queue()\n",
    "q.put(root)\n",
    "while not q.empty():\n",
    "    n = q.get()\n",
    "    \n",
    "    if n.level < item_count:\n",
    "        left = Node(value=n.value+values[n.level], weight=n.weight+weights[n.level], estimate=n.estimate, level=n.level+1, contains=n.contains[:])\n",
    "        left.contains.append(1)\n",
    "    \n",
    "        if left.weight<=capacity:\n",
    "            if left.value > value:\n",
    "                value = left.value\n",
    "                best = left.contains\n",
    "            if left.estimate > value:\n",
    "                q.put(left)\n",
    "            \n",
    "    \n",
    "        right = Node(value=n.value, weight=n.weight, estimate=n.estimate-values[n.level], level=n.level+1, contains=n.contains[:])\n",
    "        right.contains.append(0)\n",
    "\n",
    "        if right.weight<=capacity:\n",
    "            if right.value > value:\n",
    "                value = right.value\n",
    "                best = right.contains\n",
    "            if right.estimate > value:\n",
    "                q.put(right)\n",
    "            \n",
    "print(\"Value:\",value,\"\\tX:\", best)"
   ]
  },
  {
   "cell_type": "markdown",
   "metadata": {},
   "source": [
    "Best-First"
   ]
  },
  {
   "cell_type": "code",
   "execution_count": 43,
   "metadata": {},
   "outputs": [
    {
     "name": "stdout",
     "output_type": "stream",
     "text": [
      "left\tEstimate: 128\tValue:45\n",
      "right\tEstimate: 83\tValue:0\n",
      "left\tEstimate: 128\tValue:93\n",
      "right\tEstimate: 80\tValue:45\n",
      "Value: 45 \tX: [1, 0]\n"
     ]
    }
   ],
   "source": [
    "top_value = 0\n",
    "best = []\n",
    "ctr = 0\n",
    "\n",
    "root = Node(value=0, weight=0, estimate=sum(values), level=0, contains=[])\n",
    "list_nodes = []\n",
    "list_nodes.append(root)\n",
    "\n",
    "for i in range(2):\n",
    "#while list_nodes != []:\n",
    "    n = list_nodes.pop()\n",
    "    \n",
    "    if n.level < item_count:\n",
    "        left = Node(value=n.value+values[n.level], weight=n.weight+weights[n.level], estimate=n.estimate, level=n.level+1, contains=n.contains[:])\n",
    "        left.contains.append(1)\n",
    "        print(\"left\\tEstimate: {}\\tValue:{}\".format(left.estimate, left.value))\n",
    "    \n",
    "        if left.weight<=capacity:\n",
    "            if left.value>=top_value:         \n",
    "                top_value = left.value\n",
    "                best = left.contains\n",
    "            if left.estimate>=value:\n",
    "                list_nodes.append(left)\n",
    "    \n",
    "        right = Node(value=n.value, weight=n.weight, estimate=n.estimate-values[n.level], level=n.level+1, contains=n.contains[:])\n",
    "        right.contains.append(0)\n",
    "        print(\"right\\tEstimate: {}\\tValue:{}\".format(right.estimate, right.value))\n",
    "        if right.weight<=capacity:\n",
    "            if right.value>=top_value:         \n",
    "                top_value = right.value\n",
    "                best = right.contains\n",
    "            if right.estimate>=value:\n",
    "                list_nodes.append(right)\n",
    "        list_nodes.sort(key=lambda x: x.estimate)\n",
    "\n",
    "    ctr+=1\n",
    "\n",
    "print(\"Value:\",top_value,\"\\tX:\", best)"
   ]
  },
  {
   "cell_type": "code",
   "execution_count": 18,
   "metadata": {},
   "outputs": [],
   "source": [
    "list_nodes.sort(key=lambda x: x.value, reverse=True)"
   ]
  },
  {
   "cell_type": "code",
   "execution_count": 34,
   "metadata": {},
   "outputs": [
    {
     "data": {
      "text/plain": [
       "11"
      ]
     },
     "execution_count": 34,
     "metadata": {},
     "output_type": "execute_result"
    }
   ],
   "source": [
    "ctr"
   ]
  },
  {
   "cell_type": "code",
   "execution_count": 14,
   "metadata": {},
   "outputs": [
    {
     "data": {
      "text/plain": [
       "18"
      ]
     },
     "execution_count": 14,
     "metadata": {},
     "output_type": "execute_result"
    }
   ],
   "source": [
    "list_nodes[0].value"
   ]
  },
  {
   "cell_type": "code",
   "execution_count": null,
   "metadata": {},
   "outputs": [],
   "source": []
  },
  {
   "cell_type": "code",
   "execution_count": null,
   "metadata": {},
   "outputs": [],
   "source": [
    "x = [0]*item_count\n",
    "current_weight = 0\n",
    "current_value = 0\n",
    "estimate = sum(values)\n",
    "print(\"Weight: {}\\tValue: {}\\tEstimate: {}\".format(current_weight, current_value, estimate))"
   ]
  },
  {
   "cell_type": "code",
   "execution_count": null,
   "metadata": {},
   "outputs": [],
   "source": [
    "print(values)\n",
    "print(weights)\n",
    "print(density)"
   ]
  },
  {
   "cell_type": "code",
   "execution_count": null,
   "metadata": {},
   "outputs": [],
   "source": [
    "sorted_args = list(reversed(np.argsort(density)))"
   ]
  },
  {
   "cell_type": "code",
   "execution_count": null,
   "metadata": {},
   "outputs": [],
   "source": [
    "for i in sorted_args:\n",
    "    print(weights[i])"
   ]
  },
  {
   "cell_type": "code",
   "execution_count": null,
   "metadata": {},
   "outputs": [],
   "source": [
    "class Node:\n",
    "    def __init__(self, value, weight, estimate):\n",
    "        self.value = value\n",
    "        self.weight = weight\n",
    "        self.estimate = estimate\n",
    "        "
   ]
  },
  {
   "cell_type": "code",
   "execution_count": null,
   "metadata": {},
   "outputs": [],
   "source": []
  },
  {
   "cell_type": "code",
   "execution_count": null,
   "metadata": {},
   "outputs": [],
   "source": []
  },
  {
   "cell_type": "code",
   "execution_count": null,
   "metadata": {},
   "outputs": [],
   "source": [
    "list_nodes=[]\n",
    "root = Node(value=0, weight=0, estimate=sum(weights))\n",
    "list_nodes.append(n0)"
   ]
  },
  {
   "cell_type": "code",
   "execution_count": null,
   "metadata": {},
   "outputs": [],
   "source": [
    "for node in list_nodes:\n",
    "    print(node.value)"
   ]
  },
  {
   "cell_type": "code",
   "execution_count": null,
   "metadata": {},
   "outputs": [],
   "source": [
    "import queue"
   ]
  },
  {
   "cell_type": "code",
   "execution_count": null,
   "metadata": {},
   "outputs": [],
   "source": [
    "q = queue.Queue()"
   ]
  },
  {
   "cell_type": "code",
   "execution_count": null,
   "metadata": {},
   "outputs": [],
   "source": [
    "q.put(root)"
   ]
  },
  {
   "cell_type": "code",
   "execution_count": null,
   "metadata": {},
   "outputs": [],
   "source": [
    "q.get()"
   ]
  },
  {
   "cell_type": "code",
   "execution_count": null,
   "metadata": {},
   "outputs": [],
   "source": []
  }
 ],
 "metadata": {
  "kernelspec": {
   "display_name": "Python 3",
   "language": "python",
   "name": "python3"
  },
  "language_info": {
   "codemirror_mode": {
    "name": "ipython",
    "version": 3
   },
   "file_extension": ".py",
   "mimetype": "text/x-python",
   "name": "python",
   "nbconvert_exporter": "python",
   "pygments_lexer": "ipython3",
   "version": "3.6.6"
  }
 },
 "nbformat": 4,
 "nbformat_minor": 2
}
